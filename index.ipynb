{
 "cells": [
  {
   "cell_type": "code",
   "execution_count": null,
   "id": "96f8c8bb",
   "metadata": {},
   "outputs": [
    {
     "name": "stdout",
     "output_type": "stream",
     "text": [
      "nama: muhammad ainul fuady\n",
      "umur: 19\n",
      "alamat: Gresik\n"
     ]
    }
   ],
   "source": [
    "data = {\n",
    "    \"nama\":'muhammad ainul fuady',\n",
    "\"umur\":\"19\",\n",
    "    'alamat':'Gresik'\n",
    "}\n",
    "\n",
    "for key in data:\n",
    "    value = data[key]\n",
    "    print(f\"{key}: {value}\")"
   ]
  },
  {
   "cell_type": "code",
   "execution_count": null,
   "id": "335d3a02",
   "metadata": {},
   "outputs": [],
   "source": [
    "i = 0\n",
    "user = int(input('Masukkan berapa iterasi? : '))\n",
    "temp = []\n",
    "total = 0\n",
    "while (i < user):\n",
    "    user2 = input(f\"Masukkan angka yang mau di jadikan sebagai list? {i+1}: \")\n",
    "    temp.append(user2)\n",
    "    for k in temp:\n",
    "        total += int(k)\n",
    "    i += 1\n",
    "print(temp)\n",
    "print(total)"
   ]
  }
 ],
 "metadata": {
  "kernelspec": {
   "display_name": "Python 3",
   "language": "python",
   "name": "python3"
  },
  "language_info": {
   "codemirror_mode": {
    "name": "ipython",
    "version": 3
   },
   "file_extension": ".py",
   "mimetype": "text/x-python",
   "name": "python",
   "nbconvert_exporter": "python",
   "pygments_lexer": "ipython3",
   "version": "3.12.6"
  }
 },
 "nbformat": 4,
 "nbformat_minor": 5
}
